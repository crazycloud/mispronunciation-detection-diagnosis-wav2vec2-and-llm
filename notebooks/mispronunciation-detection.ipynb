{
 "cells": [
  {
   "cell_type": "markdown",
   "id": "5138d5ab-8786-4c53-be84-3ec48bf0f287",
   "metadata": {},
   "source": [
    "# Mispronunciation Detection & Diagnosis\n",
    "\n",
    "Use pre-trained Wav2Vec2 and Espeak to extract phoneme sequences from recorded speech and reference text, respectively. The extracted sequences are then aligned using the Needleman-Wunsch algorithm, and a Large Language Model (LLM) is used to generate feedback on mispronunciations.\n",
    "\n",
    "Key Features:\n",
    "- Utilizes Wav2Vec2 for speech-to-phoneme conversion\n",
    "- Employs Espeak for reference phoneme sequence generation\n",
    "- Implements Needleman-Wunsch algorithm for alignment\n",
    "- Integrates LLM for personalized feedback"
   ]
  },
  {
   "cell_type": "markdown",
   "id": "c02de147-6cc7-4ddd-b8f1-351822e187e6",
   "metadata": {},
   "source": [
    "# Sample Feedback from Large Language Model (LLM)\n",
    "The LLM provides personalized feedback on mispronunciations, suggesting corrections and improvements.   \n",
    "Here's an example of what the feedback might look like:\n",
    "\n",
    "**Overall Impression:** Your pronunciation is good, but there are some areas that need attention to sound more natural in American English.\n",
    "\n",
    "**Specific Feedback:**\n",
    "\n",
    "1. **('early', 'ɜːli', 'ʌrliː')**: Your pronunciation of \"early\" is close, but the vowel sound is a bit off. Try to pronounce it more like \"UR-lee\" (ʌrˈliː) with a more relaxed, open vowel sound.\n",
    "2. **('bird', 'bɜːd', 'boʊd')**: You're pronouncing \"bird\" more like \"board.\" Try to pronounce it with a shorter \"i\" sound, more like \"BURD\" (bɜːrd).\n",
    "3. **('catches', 'kæ_tʃᵻz', 'kæntʃɪz')**: Your pronunciation of \"catches\" is close, but the \"tch\" sound is a bit off. Try to pronounce it more like \"KAY-chiz\" (kætʃɪz) with a sharper \"tch\" sound.\n",
    "4. **('worm', 'wɜːm', 'woːm')**: You're pronouncing \"worm\" more like \"warm.\" Try to pronounce it with a shorter \"o\" sound, more like \"WURM\" (wɜːrm).\n",
    "5. **('mouse', 'maʊs', 'maʊ_z')**: Your pronunciation of \"mouse\" is close, but the \"s\" sound is a bit off. Try to pronounce it more like \"MAW-s\" (maʊs) with a clearer \"s\" sound.\n",
    "\n",
    "**Google Pronunciation Respelling Suggestions:**\n",
    "\n",
    "* early: UR-lee (ʌrˈliː)\n",
    "* bird: BURD (bɜːrd)\n",
    "* catches: KAY-chiz (kætʃɪz)\n",
    "* worm: WURM (wɜːrm)\n",
    "* mouse: MAW-s (maʊs)\n",
    "\n",
    "**Additional Tips:**\n",
    "\n",
    "* Pay attention to your vowel sounds, especially in words like \"early\" and \"bird.\"\n",
    "* Work on pronouncing the \"tch\" sound in words like \"catches\" more sharply.\n",
    "* Focus on the rhythm and intonation of the sentence to sound more natural in American English.\n",
    "\n",
    "I hope this feedback helps you improve your American accent!"
   ]
  },
  {
   "cell_type": "code",
   "execution_count": null,
   "id": "d8003800-ffc2-443e-981a-b0785240a715",
   "metadata": {},
   "outputs": [],
   "source": [
    "#pip install pyaudio\n",
    "#brew install egspeak\n",
    "#pip install phonemizer\n",
    "#pip install python-Levenshtein\n",
    "#pip install requests ipywidgets sounddevice soundfile\n",
    "#pip install sequence_align"
   ]
  },
  {
   "cell_type": "code",
   "execution_count": null,
   "id": "557698dc-d24d-4d7b-8a0f-bf7bf12a7a76",
   "metadata": {},
   "outputs": [],
   "source": [
    "import dotenv\n",
    "\n",
    "import json\n",
    "import os\n",
    "import pyaudio\n",
    "import wave\n",
    "import base64\n",
    "import requests\n",
    "import io\n",
    "import re\n",
    "\n",
    "dotenv.load_dotenv()\n",
    "\n",
    "# HF INFERENCE API\n",
    "API_TOKEN = os.environ.get(\"HF_API_TOKEN\") #https://huggingface.co/settings/profile\n",
    "headers = {\"Authorization\": f\"Bearer {API_TOKEN}\"}\n",
    "\n",
    "PHONEME_API_URL = \"https://api-inference.huggingface.co/models/mrrubino/wav2vec2-large-xlsr-53-l2-arctic-phoneme\" # \"https://api-inference.huggingface.co/facebook/wav2vec2-xlsr-53-phon-cv-ft\"\n",
    "STT_API_URL = \"https://api-inference.huggingface.co/models/openai/whisper-small\"\n",
    "\n",
    "def query(filename, API_URL):\n",
    "    with open(filename, \"rb\") as f:\n",
    "        data = f.read()\n",
    "    response = requests.request(\"POST\", API_URL, headers=headers, data=data, json={\"options\": {\"wait_for_model\": True, \"return_timestamps\":True}})\n",
    "    return json.loads(response.content.decode(\"utf-8\"))\n"
   ]
  },
  {
   "cell_type": "code",
   "execution_count": null,
   "id": "ef2456ac-3797-4071-973c-117278c60883",
   "metadata": {},
   "outputs": [],
   "source": [
    "import ipywidgets as widgets\n",
    "from IPython.display import display, Audio, HTML, Markdown\n",
    "\n",
    "import sounddevice as sd\n",
    "import soundfile as sf\n",
    "\n",
    "# Define a function to record audio when the button is clicked\n",
    "def record_audio(b):\n",
    "    with output:\n",
    "        if b.description == 'Start Recording':\n",
    "            b.description = 'Stop Recording'\n",
    "            print('Recording...')\n",
    "            fs = 44100  # sample rate\n",
    "            seconds = 10  # recording duration\n",
    "            myrecording = sd.rec(int(seconds * fs), samplerate=fs, channels=2)\n",
    "            sd.wait()\n",
    "            sf.write('output.wav', myrecording, fs)\n",
    "            print('Recording saved as output.wav')\n",
    "        else:\n",
    "            b.description = 'Start Recording'"
   ]
  },
  {
   "cell_type": "code",
   "execution_count": null,
   "id": "6521a219-4d45-41fc-a38f-14bdfa03f3bb",
   "metadata": {},
   "outputs": [],
   "source": [
    "import random\n",
    "\n",
    "# Reference text that the user is prompted to read out loud. \n",
    "sentences = [\n",
    "    \"The red boat sailed across the wide blue ocean.\",\n",
    "    \"Mary had a little lamb, its fleece was white as snow.\",\n",
    "    \"Can you imagine a world without books and stories?\",\n",
    "    \"The early bird catches the worm, but the second mouse gets the cheese.\",\n",
    "    \"The car swerved to avoid the squirrel running across the road.\",\n",
    "    \"She sells seashells by the seashore.\",\n",
    "    \"Peter Piper picked a peck of pickled peppers.\",\n",
    "    \"A stitch in time saves nine.\",\n",
    "    \"The boat sailed smoothly over the calm water yesterday.\"\n",
    "]\n",
    "reference_text = random.choice(sentences)\n",
    "reference_text"
   ]
  },
  {
   "cell_type": "markdown",
   "id": "390ff3c6-0c73-4d0d-8d94-d54e00bf0936",
   "metadata": {},
   "source": [
    "## Record Audio\n",
    "\n",
    "Record audio of the user reading out loud a given reference text"
   ]
  },
  {
   "cell_type": "code",
   "execution_count": null,
   "id": "e30f3597-5ad5-4ed9-bbcb-80e8aa7a2a95",
   "metadata": {},
   "outputs": [],
   "source": [
    "# Create a button to start and stop recording\n",
    "print(f'Read out loud - \"{reference_text}\"')\n",
    "button = widgets.Button(description='Start Recording')\n",
    "display(button)\n",
    "\n",
    "# Create an output widget to display the recorded audio\n",
    "output = widgets.Output()\n",
    "display(output)\n",
    "\n",
    "# Link the function to the button\n",
    "button.on_click(record_audio)"
   ]
  },
  {
   "cell_type": "code",
   "execution_count": null,
   "id": "4cd0ba4b-cda2-4734-a255-74f956e88763",
   "metadata": {},
   "outputs": [],
   "source": [
    "# Display the audio player widget\n",
    "Audio('output.wav')"
   ]
  },
  {
   "attachments": {
    "e56f41a7-6088-4d6b-a644-a3574381622a.png": {
     "image/png": "[encoded data removed]"
    }
   },
   "cell_type": "markdown",
   "id": "2fb48001-e8f2-4a75-8501-7ba4a12f38b9",
   "metadata": {},
   "source": [
    "# Get recorded phoneme sequence\n",
    "\n",
    "This step involves converting the recorded speech into a phoneme sequence using a fine-tuned version of the wav2vec2 model. Specifically, we are utilizing the **wav2vec2-xlsr-53-phon-cv-ft** model, which has been fine-tuned on the Common Voice dataset comprising 53 different languages.\n",
    "\n",
    "Here's how it works:\n",
    "\n",
    "1. **Input Audio**: Provide an input audio file containing the recorded speech.\n",
    "Phoneme Sequence Generation: The fine-tuned wav2vec2 model processes the input audio and generates a phoneme sequence representing the spoken sounds in the recording.\n",
    "\n",
    "2. The **wav2vec2-xlsr-53-phon-cv-ft** model is a pre-trained language model that has been fine-tuned on a large dataset of spoken languages. This fine-tuning enables the model to learn the patterns and characteristics of spoken languages, allowing it to accurately generate phoneme sequences from input audio.\n",
    "By using this model, we can extract the phoneme sequence from the recorded speech, which is essential for further processing and analysis in our pipeline.\n",
    "\n",
    "![image.png](attachment:e56f41a7-6088-4d6b-a644-a3574381622a.png)"
   ]
  },
  {
   "cell_type": "markdown",
   "id": "89270133-fa82-4854-b508-df09b0afb085",
   "metadata": {},
   "source": [
    "You have two options for using a pre-trained Wav2Vec2 model:\n",
    "\n",
    "- Hugging Face Hub: You can use the facebook/wav2vec2-xlsr-53-phon-cv-ft model from the Hugging Face Hub. However, please note that I encountered issues with the Phonemeizer package, which is required for this model.\n",
    "\n",
    "- Modallabs Deployment: To overcome the Phonemeizer issue, I deployed the model on Modallabs. The deployment code is available in this repository.\n",
    "\n",
    "Alternative Model on Hugging Face: If you don't want to deploy a model, you can use the /mrrubino/wav2vec2-large-xlsr-53-l2-arctic-phoneme model on Hugging Face, which worked for me."
   ]
  },
  {
   "cell_type": "code",
   "execution_count": null,
   "id": "23c3a675-3ab8-4401-be08-e736e3aaaaf8",
   "metadata": {},
   "outputs": [],
   "source": [
    "MODAL_URL = \"https://<>--phoneme-recognizer-dev.modal.run\"\n",
    "\n",
    "def get_phones(filepath):\n",
    "\n",
    "    # # Load your audio file\n",
    "    with open(filepath, \"rb\") as f:\n",
    "        audio_data = f.read()\n",
    "\n",
    "    # Encode the WAV data as base64 data url\n",
    "    audio_base64 = base64.b64encode(audio_data).decode(\"utf-8\")\n",
    "    data_url = f\"data:audio/wav;base64,{audio_base64}\"\n",
    "\n",
    "    # Prepare the request payload\n",
    "    payload = {\n",
    "        \"audio\": data_url \n",
    "    }\n",
    "    # token = \"d\"\n",
    "    headers = {\"Authorization\": f\"Bearer {token}\"}\n",
    "    response = requests.post(\n",
    "        MODAL_URL, json=payload,  headers=headers\n",
    "    )\n",
    "    \n",
    "    # Check if the request was successful\n",
    "    if response.status_code == 200:\n",
    "        # print(\"request completed\")\n",
    "        transcription = response.json()\n",
    "        return transcription\n",
    "    else:\n",
    "        print(f\"Error: {response.status_code} - {response.text}\")\n",
    "        return "
   ]
  },
  {
   "cell_type": "code",
   "execution_count": null,
   "id": "27fce47b-b13a-4069-84d7-638ea508868a",
   "metadata": {},
   "outputs": [],
   "source": [
    "# get recorded speech phoneme using deployed model\n",
    "recorded_phoneme = get_phones('output.wav')['text']\n",
    "recorded_phoneme\n",
    "\n",
    "# or use HF hub model\n",
    "# wait for the model to load\n",
    "#print(query('output.wav', PHONEME_API_URL))\n",
    "#recorded_phoneme = query('output.wav', PHONEME_API_URL)['text']"
   ]
  },
  {
   "attachments": {},
   "cell_type": "markdown",
   "id": "b1842fff-c620-459d-b6f6-ec5b736a616f",
   "metadata": {},
   "source": [
    "# Get Reference Phoneme sequence\n",
    "\n",
    "Converts a given reference text into a phoneme representation, breaking down each word into its individual phonetic sounds, ignoring punctuation and word boundaries, and returns a lexicon of words with their corresponding phonemes. \n",
    "\n",
    "This process involves:\n",
    "- Removing punctuation from the text\n",
    "- Splitting the text into individual words\n",
    "- Converting each word into its phonetic equivalent using the EspeakBackend engine\n",
    "- Combining the phonemes into a comprehensive lexicon"
   ]
  },
  {
   "cell_type": "code",
   "execution_count": null,
   "id": "749505f2-2056-43cc-b8ad-6e9bc156395f",
   "metadata": {},
   "outputs": [],
   "source": [
    "import phonemizer\n",
    "from phonemizer.punctuation import Punctuation\n",
    "from phonemizer.backend import EspeakBackend\n",
    "from phonemizer.separator import Separator\n",
    "\n",
    "def generate_reference_phoneme(reference_text):\n",
    "    text = Punctuation(';:,.!\"?()').remove(reference_text)\n",
    "    ref_words = [w.lower() for w in text.strip().split(' ') if w]\n",
    "    \n",
    "    \n",
    "    # initialize the espeak backend for English\n",
    "    backend = EspeakBackend('en-us')\n",
    "    \n",
    "    # separate phones by a space and ignoring words boundaries\n",
    "    separator = Separator(phone='', word=None)\n",
    "    \n",
    "    # build the lexicon by phonemizing each word one by one. The backend.phonemize\n",
    "    # function expect a list as input and outputs a list.\n",
    "    lexicon = [ (word, backend.phonemize([word], separator=separator, strip=True)[0])\n",
    "        for word in ref_words]\n",
    "    \n",
    "    return lexicon, ref_words "
   ]
  },
  {
   "cell_type": "code",
   "execution_count": null,
   "id": "85e78154-ccc2-4566-b0eb-6cfb19da4f91",
   "metadata": {},
   "outputs": [],
   "source": [
    "lexicon, ref_words = generate_reference_phoneme(reference_text)\n",
    "reference_phoneme =' '.join([phon for w, phon in lexicon])\n",
    "reference_phoneme"
   ]
  },
  {
   "cell_type": "markdown",
   "id": "88b655da-5cfc-440d-af20-7a08ae47c525",
   "metadata": {},
   "source": [
    "# Align phoneme sequences\n",
    "\n",
    "Perform sequence alignment between the reference phoneme sequence and the recorded phoneme sequence using the Needleman-Wunsch algorithm. The goal is to find the optimal alignment between the two sequences, allowing for insertions, deletions, and substitutions.\n",
    "\n",
    "The Needleman-Wunsch algorithm is a dynamic programming algorithm used in bioinformatics and natural language processing for pairwise sequence alignment. It's a global alignment algorithm, meaning it aligns two entire sequences from start to end, finding the optimal alignment between them.\n"
   ]
  },
  {
   "cell_type": "code",
   "execution_count": null,
   "id": "819d37bf-4f1b-4eff-a3ba-777ec04f20f7",
   "metadata": {},
   "outputs": [],
   "source": [
    "#https://github.com/kensho-technologies/sequence_align\n",
    "from sequence_align.pairwise import hirschberg, needleman_wunsch\n",
    "seq_a = reference_phoneme\n",
    "seq_b = list(recorded_phoneme.replace(' ',''))\n",
    "\n",
    "# recorded_phoneme['text']\n",
    "aligned_seq_a, aligned_seq_b = needleman_wunsch(\n",
    "    seq_a,\n",
    "    seq_b,\n",
    "    match_score=1.0,\n",
    "    mismatch_score=-1.0,\n",
    "    indel_score=-1.0,\n",
    "    gap=\"_\",\n",
    ")\n",
    "aligned_reference_seq = ''.join(aligned_seq_a)\n",
    "aligned_recorded_seq = ''.join(aligned_seq_b)\n",
    "\n",
    "print('Reference Text: ', reference_text)\n",
    "print('Reference Phoneme:',aligned_reference_seq)\n",
    "print('Recorded Phoneme: ', aligned_recorded_seq)"
   ]
  },
  {
   "cell_type": "markdown",
   "id": "5f6c4ab6-372c-4f0b-8aae-5465221e2009",
   "metadata": {},
   "source": [
    "# Split Phoneme sequences into words\n",
    "\n",
    "Split the reference and recorded phoneme sequences into individual words and aligns them for comparison, allowing for accurate analysis of spoken audio against the original reference text."
   ]
  },
  {
   "cell_type": "code",
   "execution_count": null,
   "id": "e8caa0ae-fd05-4441-a69e-fbe5d74ef6ab",
   "metadata": {},
   "outputs": [],
   "source": [
    "def find_word_start_positions(reference_sequence):\n",
    "    # Split the sequence into words based on spaces\n",
    "    words = reference_sequence.split()\n",
    "    # Initialize a list to store the start positions\n",
    "    start_positions = []\n",
    "    # Initialize the current position\n",
    "    current_position = 0\n",
    "    # Iterate over the words\n",
    "    for word in words:\n",
    "        # Add the current position to the start positions list\n",
    "        start_positions.append(current_position)\n",
    "        # Increment the current position by the length of the word plus 1 (for the space)\n",
    "        current_position += len(word) + 1\n",
    "    return start_positions\n",
    "\n",
    "def split_recorded_sequence(recorded_sequence, start_positions):\n",
    "    # Initialize a list to store the split words\n",
    "    split_words = []\n",
    "    # Iterate over the start positions\n",
    "    for i in range(len(start_positions)):\n",
    "        # Get the start position\n",
    "        start = start_positions[i]\n",
    "        # If it's the last word, get the end position as the length of the sequence\n",
    "        if i == len(start_positions) - 1:\n",
    "            end = len(recorded_sequence)\n",
    "        # Otherwise, get the end position as the start position of the next word\n",
    "        else:\n",
    "            end = start_positions[i + 1]\n",
    "        # Extract the word from the recorded sequence\n",
    "        word = recorded_sequence[start:end]\n",
    "        # Add the word to the list\n",
    "        split_words.append(word)\n",
    "    return split_words\n",
    "    \n",
    "# recorded_sequence = \"aɪ_hoːp_ðeɪ_hɛv_maɪ_fiːv__rədbrænd_aɪl_biː_bæk_su_n__tʊ_pliːz_w_iːdfoː__miː_\"\n",
    "ref_start_positions = find_word_start_positions(''.join(aligned_reference_seq))\n",
    "\n",
    "# split recorded based on the reference start positions\n",
    "rec_split_words = split_recorded_sequence(''.join(aligned_recorded_seq), ref_start_positions)\n",
    "rec_split_words = [re.sub('( |\\\\_)$','',w) for w in rec_split_words]\n",
    "\n",
    "# split ref based on the reference start positions\n",
    "ref_split_words = split_recorded_sequence(''.join(aligned_reference_seq), ref_start_positions)\n",
    "ref_split_words = [re.sub('(\\\\_| )$','',w) for w in ref_split_words]\n",
    "\n",
    "# print('Reference Text: ',reference_text)\n",
    "# print('(word, reference_phoneme, recorded_phoneme)',list(zip(ref_words, ref_split_words, rec_split_words)))\n",
    "word_comparision_list = list(zip(ref_words, ref_split_words, rec_split_words))\n",
    "word_comparision_list"
   ]
  },
  {
   "cell_type": "markdown",
   "id": "07678b56-6774-4bca-b87e-28fe17358766",
   "metadata": {},
   "source": [
    "# Color code differences in phonemes"
   ]
  },
  {
   "cell_type": "code",
   "execution_count": null,
   "id": "ef0713fc-5707-4b72-b059-e3cfd033c932",
   "metadata": {},
   "outputs": [],
   "source": [
    "max_length = max(len(w) for w, _, _ in word_comparision_list)\n",
    "\n",
    "for w, ref_w, rec_w in word_comparision_list:\n",
    "    word = f\"\\033[1m{w}\\033[0m\".ljust(max_length)\n",
    "    if ref_w == rec_w:\n",
    "        rec_string = f\"\\033[92m{rec_w}\\033[0m\".ljust(max_length)  # Green color\n",
    "    else:\n",
    "        mismatch_index = 0\n",
    "        for i, (c1, c2) in enumerate(zip(ref_w, rec_w)):\n",
    "            if c1 != c2:\n",
    "                mismatch_index = i\n",
    "                break\n",
    "        rec_string = \"{}\\033[91m{}\\033[0m{}\".format(rec_w[:mismatch_index], rec_w[mismatch_index], rec_w[mismatch_index+1:]).ljust(max_length)\n",
    "\n",
    "    print(word, ref_w, rec_string)"
   ]
  },
  {
   "cell_type": "markdown",
   "id": "314b6798-18ba-4d41-9a89-aeef8e38b6d2",
   "metadata": {},
   "source": [
    "# Use LLM to provide feedback based on the phoneme differences\n",
    "\n",
    "Get api keys from https://console.groq.com/keys"
   ]
  },
  {
   "cell_type": "code",
   "execution_count": null,
   "id": "1df212ec-5cf8-4902-a65a-409dad7d8f08",
   "metadata": {},
   "outputs": [],
   "source": [
    "import os\n",
    "from groq import Groq\n",
    "\n",
    "client = Groq(\n",
    "    api_key=os.environ.get(\"GROQ_API_KEY\"),\n",
    ")\n",
    "system_message = \"\"\"You are an expert dialect/accent coach for american spoken english. you will provide valuable feedback to improve my american accent. For ease of understanding, I would prefer you give suggestions for mipronunciation using google pronunciation respelling.\n",
    "provide following Overall Impression, Specific Feedback, Google Pronunciation Respelling Suggestions, additional tips\"\"\"\n",
    "chat_completion = client.chat.completions.create(\n",
    "    messages=[\n",
    "        {\n",
    "            \"role\": \"system\",\n",
    "            \"content\": system_message\n",
    "        },\n",
    "        {\n",
    "            \"role\": \"user\",\n",
    "            \"content\": f\"\"\"Reference Text:  {reference_text}\n",
    "(word, reference_phoneme, recorded_phoneme) \n",
    "{word_comparision_list}\"\"\",\n",
    "        }\n",
    "    ],\n",
    "    model=\"llama3-70b-8192\",\n",
    "    temperature=0\n",
    ")\n",
    "\n",
    "feedback = chat_completion.choices[0].message.content\n",
    "display(Markdown(feedback))"
   ]
  }
 ],
 "metadata": {
  "kernelspec": {
   "display_name": "ct2",
   "language": "python",
   "name": "ct2"
  },
  "language_info": {
   "codemirror_mode": {
    "name": "ipython",
    "version": 3
   },
   "file_extension": ".py",
   "mimetype": "text/x-python",
   "name": "python",
   "nbconvert_exporter": "python",
   "pygments_lexer": "ipython3",
   "version": "3.8.3"
  }
 },
 "nbformat": 4,
 "nbformat_minor": 5
}
